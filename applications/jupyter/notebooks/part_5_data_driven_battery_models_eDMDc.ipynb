version https://git-lfs.github.com/spec/v1
oid sha256:3ff51261862f46379c1a00ca4637d75c1a9c1d480c1c38ca2c733ef5cb0d8ca6
size 615535
