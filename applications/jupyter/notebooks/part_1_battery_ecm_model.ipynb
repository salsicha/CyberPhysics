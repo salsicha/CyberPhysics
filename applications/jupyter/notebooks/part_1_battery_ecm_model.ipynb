version https://git-lfs.github.com/spec/v1
oid sha256:06c8d6f9d02d2f89eb8c2f3f568b5e8d0d0d336836f5e7b241b2165280dc515f
size 2170036
