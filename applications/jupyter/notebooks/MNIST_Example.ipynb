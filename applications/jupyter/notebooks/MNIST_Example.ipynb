version https://git-lfs.github.com/spec/v1
oid sha256:04137e3e0645a88728c42b8a01e5124295a193f6692ac4851b485a0627b6be56
size 13466
