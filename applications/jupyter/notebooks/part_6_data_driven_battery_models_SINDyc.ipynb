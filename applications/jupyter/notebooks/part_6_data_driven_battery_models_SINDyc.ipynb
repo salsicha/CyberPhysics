version https://git-lfs.github.com/spec/v1
oid sha256:3fd5f0f499e5fd289b3d5f6c907e81a381c56ffbd9b5bd4779c58f482d03eda8
size 824356
