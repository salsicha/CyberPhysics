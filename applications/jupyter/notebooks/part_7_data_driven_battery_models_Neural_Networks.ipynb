version https://git-lfs.github.com/spec/v1
oid sha256:938f8a64b8a7688e8c7d8f00e4fb7a9fcf1077cf5425b52003eaba939292c8b4
size 250562
