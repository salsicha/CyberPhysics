version https://git-lfs.github.com/spec/v1
oid sha256:19e3ae5a3af82bd507fb3e9c8ed7a3e504e3090972a5b8428aa11d4e0c7fca42
size 585178
