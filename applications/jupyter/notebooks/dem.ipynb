version https://git-lfs.github.com/spec/v1
oid sha256:cc90f15f1a51346c93e800202a5e42541da44bc45fc6e64e7fd4ae699b4ca0dd
size 585198
