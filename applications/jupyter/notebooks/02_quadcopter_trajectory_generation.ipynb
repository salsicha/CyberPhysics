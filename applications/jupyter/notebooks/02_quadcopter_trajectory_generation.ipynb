version https://git-lfs.github.com/spec/v1
oid sha256:a33d8ed5fda90039c2dc8b7c55b9c7500c93f962de7f479ba9ca5cfdb9798a4e
size 569572
