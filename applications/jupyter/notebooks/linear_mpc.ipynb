version https://git-lfs.github.com/spec/v1
oid sha256:33278ab94d075ab661d46ec1d55f302c9d1ed068e20a44c859a98deb2b3be349
size 363947
