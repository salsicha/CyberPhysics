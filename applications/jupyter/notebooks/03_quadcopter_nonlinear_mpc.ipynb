version https://git-lfs.github.com/spec/v1
oid sha256:3d2edef9f18ff71a99c4f3aac262dea1f7d4e803a7998d5e36e01c34c0b62916
size 940445
