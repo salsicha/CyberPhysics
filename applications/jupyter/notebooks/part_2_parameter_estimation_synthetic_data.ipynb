version https://git-lfs.github.com/spec/v1
oid sha256:097629db14a0c3bfbe9f27873ce34ec7e0ad1f57158c6cb4423a1e6ed989dac7
size 605660
