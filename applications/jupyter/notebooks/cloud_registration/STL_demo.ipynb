version https://git-lfs.github.com/spec/v1
oid sha256:97ef5528334b0068dedede113decebe6f8391cae5d24a7c5a87d6a0c5c067efd
size 1259940
