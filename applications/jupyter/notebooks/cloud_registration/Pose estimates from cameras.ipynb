version https://git-lfs.github.com/spec/v1
oid sha256:791a1f3600dc7070a40ea63130065a9fe0a7af2d3dfc899076268767e68de9ef
size 13805976
